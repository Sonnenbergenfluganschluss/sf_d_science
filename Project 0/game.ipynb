{
 "cells": [
  {
   "cell_type": "code",
   "execution_count": 12,
   "metadata": {},
   "outputs": [],
   "source": [
    "import game_v2"
   ]
  },
  {
   "cell_type": "code",
   "execution_count": 13,
   "metadata": {},
   "outputs": [
    {
     "ename": "KeyboardInterrupt",
     "evalue": "",
     "output_type": "error",
     "traceback": [
      "\u001b[1;31m---------------------------------------------------------------------------\u001b[0m",
      "\u001b[1;31mKeyboardInterrupt\u001b[0m                         Traceback (most recent call last)",
      "\u001b[1;32mc:\\Users\\anast\\Desktop\\IDE\\Project 0\\game.ipynb Cell 2'\u001b[0m in \u001b[0;36m<cell line: 1>\u001b[1;34m()\u001b[0m\n\u001b[1;32m----> <a href='vscode-notebook-cell:/c%3A/Users/anast/Desktop/IDE/Project%200/game.ipynb#ch0000001?line=0'>1</a>\u001b[0m game_v2\u001b[39m.\u001b[39;49mscore_game(game_v2\u001b[39m.\u001b[39;49mpredict_20)\n",
      "File \u001b[1;32mc:\\Users\\anast\\Desktop\\IDE\\Project 0\\game_v2.py:49\u001b[0m, in \u001b[0;36mscore_game\u001b[1;34m(random_predict)\u001b[0m\n\u001b[0;32m     <a href='file:///c%3A/Users/anast/Desktop/IDE/Project%200/game_v2.py?line=45'>46</a>\u001b[0m random_array \u001b[39m=\u001b[39m np\u001b[39m.\u001b[39mrandom\u001b[39m.\u001b[39mrandint(\u001b[39m1\u001b[39m, \u001b[39m101\u001b[39m, size\u001b[39m=\u001b[39m(\u001b[39m1000\u001b[39m))\n\u001b[0;32m     <a href='file:///c%3A/Users/anast/Desktop/IDE/Project%200/game_v2.py?line=47'>48</a>\u001b[0m \u001b[39mfor\u001b[39;00m number \u001b[39min\u001b[39;00m random_array:\n\u001b[1;32m---> <a href='file:///c%3A/Users/anast/Desktop/IDE/Project%200/game_v2.py?line=48'>49</a>\u001b[0m     count_ls\u001b[39m.\u001b[39mappend(predict_20(number))\n\u001b[0;32m     <a href='file:///c%3A/Users/anast/Desktop/IDE/Project%200/game_v2.py?line=50'>51</a>\u001b[0m score \u001b[39m=\u001b[39m \u001b[39mint\u001b[39m(np\u001b[39m.\u001b[39mmean(count_ls))\n\u001b[0;32m     <a href='file:///c%3A/Users/anast/Desktop/IDE/Project%200/game_v2.py?line=51'>52</a>\u001b[0m \u001b[39mprint\u001b[39m(\u001b[39mf\u001b[39m\u001b[39m\"\u001b[39m\u001b[39mВаш алгоритм угадывает число в среднем за: \u001b[39m\u001b[39m{\u001b[39;00mscore\u001b[39m}\u001b[39;00m\u001b[39m попыток\u001b[39m\u001b[39m\"\u001b[39m)\n",
      "File \u001b[1;32mc:\\Users\\anast\\Desktop\\IDE\\Project 0\\game_v2.py:24\u001b[0m, in \u001b[0;36mpredict_20\u001b[1;34m(number)\u001b[0m\n\u001b[0;32m     <a href='file:///c%3A/Users/anast/Desktop/IDE/Project%200/game_v2.py?line=21'>22</a>\u001b[0m \u001b[39mmin\u001b[39m \u001b[39m=\u001b[39m \u001b[39m1\u001b[39m\n\u001b[0;32m     <a href='file:///c%3A/Users/anast/Desktop/IDE/Project%200/game_v2.py?line=22'>23</a>\u001b[0m \u001b[39mmax\u001b[39m \u001b[39m=\u001b[39m \u001b[39m100\u001b[39m\n\u001b[1;32m---> <a href='file:///c%3A/Users/anast/Desktop/IDE/Project%200/game_v2.py?line=23'>24</a>\u001b[0m predict_number \u001b[39m=\u001b[39m \u001b[39mint\u001b[39m(\u001b[39mround\u001b[39m(np\u001b[39m.\u001b[39;49mmean(\u001b[39mrange\u001b[39;49m(\u001b[39mmin\u001b[39;49m, \u001b[39mmax\u001b[39;49m)))) \u001b[39m# предполагаемое число при каждой попытке - среднее между экстремумами\u001b[39;00m\n\u001b[0;32m     <a href='file:///c%3A/Users/anast/Desktop/IDE/Project%200/game_v2.py?line=24'>25</a>\u001b[0m \u001b[39mif\u001b[39;00m predict_number \u001b[39m>\u001b[39m number:\n\u001b[0;32m     <a href='file:///c%3A/Users/anast/Desktop/IDE/Project%200/game_v2.py?line=25'>26</a>\u001b[0m     \u001b[39mmin\u001b[39m \u001b[39m=\u001b[39m predict_number\n",
      "File \u001b[1;32m<__array_function__ internals>:180\u001b[0m, in \u001b[0;36mmean\u001b[1;34m(*args, **kwargs)\u001b[0m\n",
      "File \u001b[1;32m~\\AppData\\Local\\Programs\\Python\\Python39\\lib\\site-packages\\numpy\\core\\fromnumeric.py:3474\u001b[0m, in \u001b[0;36mmean\u001b[1;34m(a, axis, dtype, out, keepdims, where)\u001b[0m\n\u001b[0;32m   <a href='file:///c%3A/Users/anast/AppData/Local/Programs/Python/Python39/lib/site-packages/numpy/core/fromnumeric.py?line=3470'>3471</a>\u001b[0m     \u001b[39melse\u001b[39;00m:\n\u001b[0;32m   <a href='file:///c%3A/Users/anast/AppData/Local/Programs/Python/Python39/lib/site-packages/numpy/core/fromnumeric.py?line=3471'>3472</a>\u001b[0m         \u001b[39mreturn\u001b[39;00m mean(axis\u001b[39m=\u001b[39maxis, dtype\u001b[39m=\u001b[39mdtype, out\u001b[39m=\u001b[39mout, \u001b[39m*\u001b[39m\u001b[39m*\u001b[39mkwargs)\n\u001b[1;32m-> <a href='file:///c%3A/Users/anast/AppData/Local/Programs/Python/Python39/lib/site-packages/numpy/core/fromnumeric.py?line=3473'>3474</a>\u001b[0m \u001b[39mreturn\u001b[39;00m _methods\u001b[39m.\u001b[39m_mean(a, axis\u001b[39m=\u001b[39maxis, dtype\u001b[39m=\u001b[39mdtype,\n\u001b[0;32m   <a href='file:///c%3A/Users/anast/AppData/Local/Programs/Python/Python39/lib/site-packages/numpy/core/fromnumeric.py?line=3474'>3475</a>\u001b[0m                       out\u001b[39m=\u001b[39mout, \u001b[39m*\u001b[39m\u001b[39m*\u001b[39mkwargs)\n",
      "File \u001b[1;32m~\\AppData\\Local\\Programs\\Python\\Python39\\lib\\site-packages\\numpy\\core\\_methods.py:167\u001b[0m, in \u001b[0;36m_mean\u001b[1;34m(a, axis, dtype, out, keepdims, where)\u001b[0m\n\u001b[0;32m    <a href='file:///c%3A/Users/anast/AppData/Local/Programs/Python/Python39/lib/site-packages/numpy/core/_methods.py?line=162'>163</a>\u001b[0m arr \u001b[39m=\u001b[39m asanyarray(a)\n\u001b[0;32m    <a href='file:///c%3A/Users/anast/AppData/Local/Programs/Python/Python39/lib/site-packages/numpy/core/_methods.py?line=164'>165</a>\u001b[0m is_float16_result \u001b[39m=\u001b[39m \u001b[39mFalse\u001b[39;00m\n\u001b[1;32m--> <a href='file:///c%3A/Users/anast/AppData/Local/Programs/Python/Python39/lib/site-packages/numpy/core/_methods.py?line=166'>167</a>\u001b[0m rcount \u001b[39m=\u001b[39m _count_reduce_items(arr, axis, keepdims\u001b[39m=\u001b[39mkeepdims, where\u001b[39m=\u001b[39mwhere)\n\u001b[0;32m    <a href='file:///c%3A/Users/anast/AppData/Local/Programs/Python/Python39/lib/site-packages/numpy/core/_methods.py?line=167'>168</a>\u001b[0m \u001b[39mif\u001b[39;00m rcount \u001b[39m==\u001b[39m \u001b[39m0\u001b[39m \u001b[39mif\u001b[39;00m where \u001b[39mis\u001b[39;00m \u001b[39mTrue\u001b[39;00m \u001b[39melse\u001b[39;00m umr_any(rcount \u001b[39m==\u001b[39m \u001b[39m0\u001b[39m, axis\u001b[39m=\u001b[39m\u001b[39mNone\u001b[39;00m):\n\u001b[0;32m    <a href='file:///c%3A/Users/anast/AppData/Local/Programs/Python/Python39/lib/site-packages/numpy/core/_methods.py?line=168'>169</a>\u001b[0m     warnings\u001b[39m.\u001b[39mwarn(\u001b[39m\"\u001b[39m\u001b[39mMean of empty slice.\u001b[39m\u001b[39m\"\u001b[39m, \u001b[39mRuntimeWarning\u001b[39;00m, stacklevel\u001b[39m=\u001b[39m\u001b[39m2\u001b[39m)\n",
      "\u001b[1;31mKeyboardInterrupt\u001b[0m: "
     ]
    }
   ],
   "source": [
    "game_v2.score_game(game_v2.predict_20)"
   ]
  },
  {
   "cell_type": "code",
   "execution_count": 14,
   "metadata": {},
   "outputs": [
    {
     "ename": "KeyboardInterrupt",
     "evalue": "",
     "output_type": "error",
     "traceback": [
      "\u001b[1;31m---------------------------------------------------------------------------\u001b[0m",
      "\u001b[1;31mKeyboardInterrupt\u001b[0m                         Traceback (most recent call last)",
      "\u001b[1;32mc:\\Users\\anast\\Desktop\\IDE\\Project 0\\game.ipynb Cell 3'\u001b[0m in \u001b[0;36m<cell line: 3>\u001b[1;34m()\u001b[0m\n\u001b[0;32m      <a href='vscode-notebook-cell:/c%3A/Users/anast/Desktop/IDE/Project%200/game.ipynb#ch0000002?line=0'>1</a>\u001b[0m \u001b[39mfrom\u001b[39;00m \u001b[39mgame_v2\u001b[39;00m \u001b[39mimport\u001b[39;00m score_game\n\u001b[0;32m      <a href='vscode-notebook-cell:/c%3A/Users/anast/Desktop/IDE/Project%200/game.ipynb#ch0000002?line=1'>2</a>\u001b[0m \u001b[39mfrom\u001b[39;00m \u001b[39mgame_v2\u001b[39;00m \u001b[39mimport\u001b[39;00m predict_20\n\u001b[1;32m----> <a href='vscode-notebook-cell:/c%3A/Users/anast/Desktop/IDE/Project%200/game.ipynb#ch0000002?line=2'>3</a>\u001b[0m score_game(predict_20)\n",
      "File \u001b[1;32mc:\\Users\\anast\\Desktop\\IDE\\Project 0\\game_v2.py:49\u001b[0m, in \u001b[0;36mscore_game\u001b[1;34m(random_predict)\u001b[0m\n\u001b[0;32m     <a href='file:///c%3A/Users/anast/Desktop/IDE/Project%200/game_v2.py?line=45'>46</a>\u001b[0m random_array \u001b[39m=\u001b[39m np\u001b[39m.\u001b[39mrandom\u001b[39m.\u001b[39mrandint(\u001b[39m1\u001b[39m, \u001b[39m101\u001b[39m, size\u001b[39m=\u001b[39m(\u001b[39m1000\u001b[39m))\n\u001b[0;32m     <a href='file:///c%3A/Users/anast/Desktop/IDE/Project%200/game_v2.py?line=47'>48</a>\u001b[0m \u001b[39mfor\u001b[39;00m number \u001b[39min\u001b[39;00m random_array:\n\u001b[1;32m---> <a href='file:///c%3A/Users/anast/Desktop/IDE/Project%200/game_v2.py?line=48'>49</a>\u001b[0m     count_ls\u001b[39m.\u001b[39mappend(predict_20(number))\n\u001b[0;32m     <a href='file:///c%3A/Users/anast/Desktop/IDE/Project%200/game_v2.py?line=50'>51</a>\u001b[0m score \u001b[39m=\u001b[39m \u001b[39mint\u001b[39m(np\u001b[39m.\u001b[39mmean(count_ls))\n\u001b[0;32m     <a href='file:///c%3A/Users/anast/Desktop/IDE/Project%200/game_v2.py?line=51'>52</a>\u001b[0m \u001b[39mprint\u001b[39m(\u001b[39mf\u001b[39m\u001b[39m\"\u001b[39m\u001b[39mВаш алгоритм угадывает число в среднем за: \u001b[39m\u001b[39m{\u001b[39;00mscore\u001b[39m}\u001b[39;00m\u001b[39m попыток\u001b[39m\u001b[39m\"\u001b[39m)\n",
      "File \u001b[1;32mc:\\Users\\anast\\Desktop\\IDE\\Project 0\\game_v2.py:24\u001b[0m, in \u001b[0;36mpredict_20\u001b[1;34m(number)\u001b[0m\n\u001b[0;32m     <a href='file:///c%3A/Users/anast/Desktop/IDE/Project%200/game_v2.py?line=21'>22</a>\u001b[0m \u001b[39mmin\u001b[39m \u001b[39m=\u001b[39m \u001b[39m1\u001b[39m\n\u001b[0;32m     <a href='file:///c%3A/Users/anast/Desktop/IDE/Project%200/game_v2.py?line=22'>23</a>\u001b[0m \u001b[39mmax\u001b[39m \u001b[39m=\u001b[39m \u001b[39m100\u001b[39m\n\u001b[1;32m---> <a href='file:///c%3A/Users/anast/Desktop/IDE/Project%200/game_v2.py?line=23'>24</a>\u001b[0m predict_number \u001b[39m=\u001b[39m \u001b[39mint\u001b[39m(\u001b[39mround\u001b[39m(np\u001b[39m.\u001b[39;49mmean(\u001b[39mrange\u001b[39;49m(\u001b[39mmin\u001b[39;49m, \u001b[39mmax\u001b[39;49m)))) \u001b[39m# предполагаемое число при каждой попытке - среднее между экстремумами\u001b[39;00m\n\u001b[0;32m     <a href='file:///c%3A/Users/anast/Desktop/IDE/Project%200/game_v2.py?line=24'>25</a>\u001b[0m \u001b[39mif\u001b[39;00m predict_number \u001b[39m>\u001b[39m number:\n\u001b[0;32m     <a href='file:///c%3A/Users/anast/Desktop/IDE/Project%200/game_v2.py?line=25'>26</a>\u001b[0m     \u001b[39mmin\u001b[39m \u001b[39m=\u001b[39m predict_number\n",
      "File \u001b[1;32m<__array_function__ internals>:180\u001b[0m, in \u001b[0;36mmean\u001b[1;34m(*args, **kwargs)\u001b[0m\n",
      "File \u001b[1;32m~\\AppData\\Local\\Programs\\Python\\Python39\\lib\\site-packages\\numpy\\core\\fromnumeric.py:3474\u001b[0m, in \u001b[0;36mmean\u001b[1;34m(a, axis, dtype, out, keepdims, where)\u001b[0m\n\u001b[0;32m   <a href='file:///c%3A/Users/anast/AppData/Local/Programs/Python/Python39/lib/site-packages/numpy/core/fromnumeric.py?line=3470'>3471</a>\u001b[0m     \u001b[39melse\u001b[39;00m:\n\u001b[0;32m   <a href='file:///c%3A/Users/anast/AppData/Local/Programs/Python/Python39/lib/site-packages/numpy/core/fromnumeric.py?line=3471'>3472</a>\u001b[0m         \u001b[39mreturn\u001b[39;00m mean(axis\u001b[39m=\u001b[39maxis, dtype\u001b[39m=\u001b[39mdtype, out\u001b[39m=\u001b[39mout, \u001b[39m*\u001b[39m\u001b[39m*\u001b[39mkwargs)\n\u001b[1;32m-> <a href='file:///c%3A/Users/anast/AppData/Local/Programs/Python/Python39/lib/site-packages/numpy/core/fromnumeric.py?line=3473'>3474</a>\u001b[0m \u001b[39mreturn\u001b[39;00m _methods\u001b[39m.\u001b[39m_mean(a, axis\u001b[39m=\u001b[39maxis, dtype\u001b[39m=\u001b[39mdtype,\n\u001b[0;32m   <a href='file:///c%3A/Users/anast/AppData/Local/Programs/Python/Python39/lib/site-packages/numpy/core/fromnumeric.py?line=3474'>3475</a>\u001b[0m                       out\u001b[39m=\u001b[39mout, \u001b[39m*\u001b[39m\u001b[39m*\u001b[39mkwargs)\n",
      "File \u001b[1;32m~\\AppData\\Local\\Programs\\Python\\Python39\\lib\\site-packages\\numpy\\core\\_methods.py:185\u001b[0m, in \u001b[0;36m_mean\u001b[1;34m(a, axis, dtype, out, keepdims, where)\u001b[0m\n\u001b[0;32m    <a href='file:///c%3A/Users/anast/AppData/Local/Programs/Python/Python39/lib/site-packages/numpy/core/_methods.py?line=182'>183</a>\u001b[0m     \u001b[39mif\u001b[39;00m is_float16_result \u001b[39mand\u001b[39;00m out \u001b[39mis\u001b[39;00m \u001b[39mNone\u001b[39;00m:\n\u001b[0;32m    <a href='file:///c%3A/Users/anast/AppData/Local/Programs/Python/Python39/lib/site-packages/numpy/core/_methods.py?line=183'>184</a>\u001b[0m         ret \u001b[39m=\u001b[39m arr\u001b[39m.\u001b[39mdtype\u001b[39m.\u001b[39mtype(ret)\n\u001b[1;32m--> <a href='file:///c%3A/Users/anast/AppData/Local/Programs/Python/Python39/lib/site-packages/numpy/core/_methods.py?line=184'>185</a>\u001b[0m \u001b[39melif\u001b[39;00m \u001b[39mhasattr\u001b[39;49m(ret, \u001b[39m'\u001b[39m\u001b[39mdtype\u001b[39m\u001b[39m'\u001b[39m):\n\u001b[0;32m    <a href='file:///c%3A/Users/anast/AppData/Local/Programs/Python/Python39/lib/site-packages/numpy/core/_methods.py?line=185'>186</a>\u001b[0m     \u001b[39mif\u001b[39;00m is_float16_result:\n\u001b[0;32m    <a href='file:///c%3A/Users/anast/AppData/Local/Programs/Python/Python39/lib/site-packages/numpy/core/_methods.py?line=186'>187</a>\u001b[0m         ret \u001b[39m=\u001b[39m arr\u001b[39m.\u001b[39mdtype\u001b[39m.\u001b[39mtype(ret \u001b[39m/\u001b[39m rcount)\n",
      "\u001b[1;31mKeyboardInterrupt\u001b[0m: "
     ]
    }
   ],
   "source": [
    "from game_v2 import score_game\n",
    "from game_v2 import predict_20\n",
    "score_game(predict_20) #вызов функции"
   ]
  },
  {
   "cell_type": "code",
   "execution_count": null,
   "metadata": {},
   "outputs": [
    {
     "name": "stdout",
     "output_type": "stream",
     "text": [
      "Ваш алгоритм угадывает число в среднем за: 103 попыток\n"
     ]
    },
    {
     "data": {
      "text/plain": [
       "103"
      ]
     },
     "execution_count": 24,
     "metadata": {},
     "output_type": "execute_result"
    }
   ],
   "source": [
    "from game_v2 import score_game, predict_20\n",
    "score_game(predict_20) #вызов функции"
   ]
  }
 ],
 "metadata": {
  "interpreter": {
   "hash": "58505476d214059e0eff495e039d723770c1d60462618c7783a5fceca3e47f8e"
  },
  "kernelspec": {
   "display_name": "Python 3.9.10 64-bit",
   "language": "python",
   "name": "python3"
  },
  "language_info": {
   "codemirror_mode": {
    "name": "ipython",
    "version": 3
   },
   "file_extension": ".py",
   "mimetype": "text/x-python",
   "name": "python",
   "nbconvert_exporter": "python",
   "pygments_lexer": "ipython3",
   "version": "3.9.10"
  },
  "orig_nbformat": 4
 },
 "nbformat": 4,
 "nbformat_minor": 2
}
